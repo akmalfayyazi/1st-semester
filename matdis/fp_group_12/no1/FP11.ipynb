{
 "cells": [
  {
   "cell_type": "code",
   "execution_count": 7,
   "metadata": {},
   "outputs": [
    {
     "name": "stdout",
     "output_type": "stream",
     "text": [
      "Pemasukan jumatan:\n",
      "     Jumat  Pemasukan (ribu)\n",
      "Jumat ke-1               100\n",
      "Jumat ke-2               200\n",
      "Jumat ke-3               300\n",
      "Jumat ke-4               400\n",
      "\n",
      "Pengeluaran:\n",
      "     pengeluaran  Pengeluaran (ribu)\n",
      "Pengeluaran ke-1                 100\n",
      "Pengeluaran ke-2                 200\n",
      "\n",
      "Laporan Cashflow:\n",
      "Total Infaq: 1000 ribu\n",
      "Total Pengeluaran: 300 ribu\n",
      "Saldo Akhir: 700 ribu\n"
     ]
    }
   ],
   "source": [
    "import pandas as pd\n",
    "\n",
    "def pemasukkan(data_pemasukkan):\n",
    "    data_masuk = pd.DataFrame({\n",
    "        \"Jumat\": [f\"Jumat ke-{i+1}\" for i in range(len(data_pemasukkan))],\n",
    "        \"Pemasukan (ribu)\": data_pemasukkan\n",
    "    })\n",
    "    print(\"Pemasukan jumatan:\")\n",
    "    print(data_masuk.to_string(index=False))\n",
    "\n",
    "def pengeluaran(data_pengeluaran):\n",
    "    data_keluar = pd.DataFrame({\n",
    "        \"pengeluaran\": [f\"Pengeluaran ke-{i+1}\" for i in range(len(data_pengeluaran))],\n",
    "        \"Pengeluaran (ribu)\": data_pengeluaran\n",
    "    })\n",
    "    print(\"\\nPengeluaran:\")\n",
    "    print(data_keluar.to_string(index=False))\n",
    "\n",
    "def gabungan(data_pemasukkan, data_pengeluaran):\n",
    "    total_pemasukkan = sum(data_pemasukkan)\n",
    "    total_pengeluaran = sum(data_pengeluaran)\n",
    "    saldo_akhir = total_pemasukkan - total_pengeluaran\n",
    "\n",
    "    print(\"\\nLaporan Cashflow:\")\n",
    "    print(f\"Total Infaq: {total_pemasukkan} ribu\")\n",
    "    print(f\"Total Pengeluaran: {total_pengeluaran} ribu\")\n",
    "    print(f\"Saldo Akhir: {saldo_akhir} ribu\")\n",
    "\n",
    "data_infow = []\n",
    "for i in range(int(input(\"pemasukkan untuk berapa minggu: \"))):\n",
    "    inflow = int(input(f\"Jumat ke-{i+1}: \"))\n",
    "    data_infow.append(inflow)\n",
    "\n",
    "data_outflow = []\n",
    "for i in range(int(input(\"pemasukkan untuk berapa minggu: \"))):\n",
    "    outflow = int(input(f\"Pengeluaran ke-{i+1}: \"))\n",
    "    data_outflow.append(outflow)\n",
    "\n",
    "pemasukkan(data_infow)\n",
    "pengeluaran(data_outflow)\n",
    "gabungan(data_infow, data_outflow)\n",
    "\n",
    "\n",
    "\n"
   ]
  }
 ],
 "metadata": {
  "kernelspec": {
   "display_name": "myenv",
   "language": "python",
   "name": "myenv"
  },
  "language_info": {
   "codemirror_mode": {
    "name": "ipython",
    "version": 3
   },
   "file_extension": ".py",
   "mimetype": "text/x-python",
   "name": "python",
   "nbconvert_exporter": "python",
   "pygments_lexer": "ipython3",
   "version": "3.13.0"
  }
 },
 "nbformat": 4,
 "nbformat_minor": 2
}
